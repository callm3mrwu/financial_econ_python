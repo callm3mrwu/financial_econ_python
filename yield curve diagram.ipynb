{
 "cells": [
  {
   "cell_type": "code",
   "execution_count": 1,
   "id": "0dceffd7",
   "metadata": {},
   "outputs": [
    {
     "ename": "SyntaxError",
     "evalue": "invalid character '“' (U+201C) (3550853191.py, line 5)",
     "output_type": "error",
     "traceback": [
      "\u001b[1;36m  Cell \u001b[1;32mIn[1], line 5\u001b[1;36m\u001b[0m\n\u001b[1;33m    ticker_symbol = “^TNX”\u001b[0m\n\u001b[1;37m                    ^\u001b[0m\n\u001b[1;31mSyntaxError\u001b[0m\u001b[1;31m:\u001b[0m invalid character '“' (U+201C)\n"
     ]
    }
   ],
   "source": [
    "import yfinance as yf\n",
    "import plotly.graph_objects as go\n",
    "import pandas as pd\n",
    "# Define the ticker symbol for the 10-Year Treasury Yield\n",
    "ticker_symbol = “^TNX”\n",
    "# Define the start and end dates\n",
    "start_date = “1994-01-01\"\n",
    "end_date = “2024-05-01”\n",
    "# Fetch the data\n",
    "data = yf.download(tickers=ticker_symbol, start=start_date, end=end_date, interval=“1mo”)\n",
    "# Resample the data to fill missing months and interpolate\n",
    "data_resampled = data[‘Close’].resample(‘MS’).mean().interpolate()\n",
    "# Create meshgrid\n",
    "x = data_resampled.index.year\n",
    "y = data_resampled.index.month\n",
    "z = data_resampled.values\n",
    "# Create 3D Area Chart (approximated with scatter plot)\n",
    "fig = go.Figure(data=[go.Scatter3d(\n",
    "    x=x,\n",
    "    y=y,\n",
    "    z=z,\n",
    "    mode=‘lines’,\n",
    "    line=dict(color= z, colorscale= ‘Blues’,width=2),  # Applying the ‘Blues’ color scale\n",
    "    surfaceaxis=2, # Draw on x-axis\n",
    ")])\n",
    "# Update layout\n",
    "fig.update_layout(scene=dict(\n",
    "                    xaxis_title=‘Year’,\n",
    "                    yaxis_title=‘Month’,\n",
    "                    zaxis_title=’10-Year Treasury Yield (%)’,\n",
    "                    xaxis=dict(showline=False),\n",
    "                    yaxis=dict(showline=False),\n",
    "                    zaxis=dict(showline=False),\n",
    "                    bgcolor=‘rgba(255,255,255,0)’,\n",
    "                    ),\n",
    "                    width=800,\n",
    "                    height=600,\n",
    "                    title=‘10-Year Treasury Yield Rate (1994-2024)’,\n",
    "                    font=dict(family=“Arial”, size=14, color=“black”),\n",
    "                    showlegend=False,\n",
    "                    paper_bgcolor=‘rgba(255,255,255,0)’,\n",
    "                    plot_bgcolor=‘rgba(255,255,255,0)’,\n",
    "                    )\n",
    "# Show plot\n",
    "fig.show()"
   ]
  },
  {
   "cell_type": "code",
   "execution_count": null,
   "id": "b4ae63e0",
   "metadata": {},
   "outputs": [],
   "source": []
  }
 ],
 "metadata": {
  "kernelspec": {
   "display_name": "Python 3 (ipykernel)",
   "language": "python",
   "name": "python3"
  },
  "language_info": {
   "codemirror_mode": {
    "name": "ipython",
    "version": 3
   },
   "file_extension": ".py",
   "mimetype": "text/x-python",
   "name": "python",
   "nbconvert_exporter": "python",
   "pygments_lexer": "ipython3",
   "version": "3.11.7"
  }
 },
 "nbformat": 4,
 "nbformat_minor": 5
}
